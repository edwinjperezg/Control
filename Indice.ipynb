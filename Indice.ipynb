{
 "cells": [
  {
   "cell_type": "markdown",
   "id": "397b94ff",
   "metadata": {},
   "source": [
    "## 0  Introducción\n",
    "\n",
    "- [Introducción a la programación con Python y Jupyter](PythonJupyter.ipynb)\n",
    "- [Cálculos en ingeniería con Sympy y Jupyter Notebooks](SympyJupyter.ipynb)\n",
    "- [Ejercicio: Análisis de un circuito con Sympy](EjercicioSympy.ipynb)\n",
    "- [Señales Estándar](SenalesEstandar.ipynb)\n",
    "- [Caracterización de Sistemas LTI en el Dominio del Tiempo](CaracterizacionLTI.ipynb)\n",
    "- [Modelo dinámico de un circuito RLC](CircuitoRLC.ipynb)\n",
    "- [Ejercicio: Análisis de un circuito con almacenamiento de energía](EjercicioCircuito.ipynb)"
   ]
  },
  {
   "cell_type": "markdown",
   "id": "6a993173",
   "metadata": {},
   "source": [
    "## 1  Control en tiempo continuo\n",
    "\n",
    "- [Bucla de control en tiempo continuo]()\n",
    "- [Generalidades de la transformada de Laplace]()\n",
    "- [Estabilidad]()\n",
    "- [Lugar geométrico de las raíces]()\n",
    "- [Criterio de Routh]()\n",
    "- [Diseño de controladores]()\n"
   ]
  },
  {
   "cell_type": "code",
   "execution_count": null,
   "id": "679c5a63",
   "metadata": {},
   "outputs": [],
   "source": []
  }
 ],
 "metadata": {
  "kernelspec": {
   "display_name": "Python 3",
   "language": "python",
   "name": "python3"
  },
  "language_info": {
   "codemirror_mode": {
    "name": "ipython",
    "version": 3
   },
   "file_extension": ".py",
   "mimetype": "text/x-python",
   "name": "python",
   "nbconvert_exporter": "python",
   "pygments_lexer": "ipython3",
   "version": "3.7.3"
  },
  "latex_envs": {
   "bibliofile": "biblio.bib",
   "cite_by": "apalike",
   "current_citInitial": 1,
   "eqLabelWithNumbers": true,
   "eqNumInitial": 0
  }
 },
 "nbformat": 4,
 "nbformat_minor": 5
}
