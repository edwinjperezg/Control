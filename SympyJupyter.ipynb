{
 "cells": [
  {
   "cell_type": "markdown",
   "metadata": {},
   "source": [
    "# Cálculos en ingeniería con Sympy y Jupyter Notebooks\n",
    "\n",
    "\n"
   ]
  },
  {
   "cell_type": "markdown",
   "metadata": {},
   "source": [
    "## Cuadros de texto con ecuaciones\n",
    "\n",
    "El editor permite escribir ecuaciones en [$\\LaTeX$](). Al dar \"`Doble click`\", puede ver cómo se escriben tales expresiones.\n",
    "\n",
    "$$ f(a) = \\int_\\infty^0 \\frac{1}{a+2} \\mathrm{d}a$$\n"
   ]
  },
  {
   "cell_type": "markdown",
   "metadata": {},
   "source": [
    "## Símbolos especiales en los nombres\n",
    "\n",
    "Para nombrar una variable con un símbolo especial, use  \"`\\`\" seguido del nombre del símbolo y presione \"`tab`\".\n",
    "\n",
    "**Ejemplo**\n",
    "\n",
    "Escriba `\\alpha` y presione \"`tab`\" para usar α en el código."
   ]
  },
  {
   "cell_type": "code",
   "execution_count": 1,
   "metadata": {},
   "outputs": [],
   "source": [
    "α = 1"
   ]
  },
  {
   "cell_type": "markdown",
   "metadata": {},
   "source": [
    "## SymPy\n",
    "\n",
    "Se importa el módulo [SymPy](http://docs.sympy.org/latest/index.html) para desarrollar operaciones matemáticas de forma simbólica, debe importase. Además se inicia un proceso de \"impresión estética\" para la visualización de expresiones y uno de \"gráficas incorporadas\"."
   ]
  },
  {
   "cell_type": "code",
   "execution_count": 57,
   "metadata": {
    "scrolled": true
   },
   "outputs": [],
   "source": [
    "import sympy as sym\n",
    "sym.init_printing()\n",
    "%matplotlib inline"
   ]
  },
  {
   "cell_type": "markdown",
   "metadata": {},
   "source": [
    "Se definen símbolos para operarlos matemáticamente."
   ]
  },
  {
   "cell_type": "code",
   "execution_count": 3,
   "metadata": {
    "scrolled": true
   },
   "outputs": [],
   "source": [
    "x = sym.Symbol('x')"
   ]
  },
  {
   "cell_type": "code",
   "execution_count": 4,
   "metadata": {
    "scrolled": true
   },
   "outputs": [
    {
     "data": {
      "image/png": "[encoded data removed]",
      "text/latex": [
       "$\\displaystyle x$"
      ],
      "text/plain": [
       "x"
      ]
     },
     "execution_count": 4,
     "metadata": {},
     "output_type": "execute_result"
    }
   ],
   "source": [
    "x"
   ]
  },
  {
   "cell_type": "markdown",
   "metadata": {},
   "source": [
    "Se realizan operaciones matemáticas con los símbolos creados."
   ]
  },
  {
   "cell_type": "code",
   "execution_count": 5,
   "metadata": {
    "scrolled": true
   },
   "outputs": [
    {
     "data": {
      "image/png": "[encoded data removed]",
      "text/latex": [
       "$\\displaystyle x^{2} + 4 x + 4$"
      ],
      "text/plain": [
       " 2          \n",
       "x  + 4⋅x + 4"
      ]
     },
     "execution_count": 5,
     "metadata": {},
     "output_type": "execute_result"
    }
   ],
   "source": [
    "polinomio = (x + 2)**2\n",
    "polinomio.expand()"
   ]
  },
  {
   "cell_type": "markdown",
   "metadata": {},
   "source": [
    "\"`polinomio`\" se creó como una operación que usa el símbolo \"`x`\". Después, se usó el método \"`.expand()`\" para expandir el \"`polinomio`\".\n",
    "\n",
    "Puede tener un listado de métodos que puede usar sobre \"`polinomio`\" escribiendo \"`polinomio.`\" y presionando \"`tab`\""
   ]
  },
  {
   "cell_type": "code",
   "execution_count": 6,
   "metadata": {
    "scrolled": true
   },
   "outputs": [
    {
     "data": {
      "image/png": "[encoded data removed]",
      "text/latex": [
       "$\\displaystyle \\left(x + 2\\right)^{2}$"
      ],
      "text/plain": [
       "       2\n",
       "(x + 2) "
      ]
     },
     "execution_count": 6,
     "metadata": {},
     "output_type": "execute_result"
    }
   ],
   "source": [
    "polinomio"
   ]
  },
  {
   "cell_type": "markdown",
   "metadata": {},
   "source": [
    "Puede obtener ayuda de un método con \"`?`\"."
   ]
  },
  {
   "cell_type": "code",
   "execution_count": 7,
   "metadata": {
    "scrolled": true
   },
   "outputs": [],
   "source": [
    "polinomio.expand?"
   ]
  },
  {
   "cell_type": "markdown",
   "metadata": {},
   "source": [
    "También puede obtener ayuda de un método al ubicar el cursor entre el paréntesis y presionar \"`Shift+Tab`\""
   ]
  },
  {
   "cell_type": "code",
   "execution_count": 8,
   "metadata": {
    "scrolled": true
   },
   "outputs": [
    {
     "data": {
      "image/png": "[encoded data removed]",
      "text/latex": [
       "$\\displaystyle \\left(x + 2\\right)^{2}$"
      ],
      "text/plain": [
       "       2\n",
       "(x + 2) "
      ]
     },
     "execution_count": 8,
     "metadata": {},
     "output_type": "execute_result"
    }
   ],
   "source": [
    "polinomio.factor()"
   ]
  },
  {
   "cell_type": "markdown",
   "metadata": {},
   "source": [
    "## Cálculo\n",
    "\n",
    "Puede resolver integrales y derivadas."
   ]
  },
  {
   "cell_type": "code",
   "execution_count": 9,
   "metadata": {},
   "outputs": [],
   "source": [
    "expresionA = sym.tan(sym.log(x**2 + 1)) # define una expresión "
   ]
  },
  {
   "cell_type": "code",
   "execution_count": 10,
   "metadata": {},
   "outputs": [
    {
     "data": {
      "image/png": "[encoded data removed]",
      "text/latex": [
       "$\\displaystyle \\frac{2 x \\left(\\tan^{2}{\\left(\\log{\\left(x^{2} + 1 \\right)} \\right)} + 1\\right)}{x^{2} + 1}$"
      ],
      "text/plain": [
       "    ⎛   2⎛   ⎛ 2    ⎞⎞    ⎞\n",
       "2⋅x⋅⎝tan ⎝log⎝x  + 1⎠⎠ + 1⎠\n",
       "───────────────────────────\n",
       "            2              \n",
       "           x  + 1          "
      ]
     },
     "execution_count": 10,
     "metadata": {},
     "output_type": "execute_result"
    }
   ],
   "source": [
    "expresionA.diff(x) # deriva \"expresionA\" respecto a \"x\""
   ]
  },
  {
   "cell_type": "code",
   "execution_count": 11,
   "metadata": {
    "scrolled": true
   },
   "outputs": [
    {
     "data": {
      "image/png": "[encoded data removed]",
      "text/latex": [
       "$\\displaystyle 2 x + 4$"
      ],
      "text/plain": [
       "2⋅x + 4"
      ]
     },
     "execution_count": 11,
     "metadata": {},
     "output_type": "execute_result"
    }
   ],
   "source": [
    "polinomio.diff(x) # primera derivada"
   ]
  },
  {
   "cell_type": "code",
   "execution_count": 12,
   "metadata": {
    "scrolled": true
   },
   "outputs": [
    {
     "data": {
      "image/png": "[encoded data removed]",
      "text/latex": [
       "$\\displaystyle 2$"
      ],
      "text/plain": [
       "2"
      ]
     },
     "execution_count": 12,
     "metadata": {},
     "output_type": "execute_result"
    }
   ],
   "source": [
    "polinomio.diff(x, 2) # segunda derivada"
   ]
  },
  {
   "cell_type": "code",
   "execution_count": 13,
   "metadata": {
    "scrolled": true
   },
   "outputs": [
    {
     "data": {
      "image/png": "[encoded data removed]",
      "text/latex": [
       "$\\displaystyle \\frac{x^{3}}{3} + 2 x^{2} + 4 x$"
      ],
      "text/plain": [
       " 3             \n",
       "x       2      \n",
       "── + 2⋅x  + 4⋅x\n",
       "3              "
      ]
     },
     "execution_count": 13,
     "metadata": {},
     "output_type": "execute_result"
    }
   ],
   "source": [
    "polinomio.integrate(x) # integral indefinida sin constante de integración"
   ]
  },
  {
   "cell_type": "code",
   "execution_count": 14,
   "metadata": {
    "scrolled": true
   },
   "outputs": [
    {
     "data": {
      "image/png": "[encoded data removed]",
      "text/latex": [
       "$\\displaystyle \\frac{19}{3}$"
      ],
      "text/plain": [
       "19/3"
      ]
     },
     "execution_count": 14,
     "metadata": {},
     "output_type": "execute_result"
    }
   ],
   "source": [
    "polinomio.integrate((x, 0, 1))  # integral definida. Observe la tupla como argumento"
   ]
  },
  {
   "cell_type": "markdown",
   "metadata": {},
   "source": [
    "## Límites\n",
    "\n",
    "Puede resolver límites."
   ]
  },
  {
   "cell_type": "code",
   "execution_count": 18,
   "metadata": {},
   "outputs": [],
   "source": [
    "expresionB = (2*sym.sin(x) - sym.sin(2*x))/(x - sym.sin(x))"
   ]
  },
  {
   "cell_type": "code",
   "execution_count": 19,
   "metadata": {},
   "outputs": [
    {
     "data": {
      "image/png": "[encoded data removed]",
      "text/latex": [
       "$\\displaystyle \\frac{2 \\sin{\\left(x \\right)} - \\sin{\\left(2 x \\right)}}{x - \\sin{\\left(x \\right)}}$"
      ],
      "text/plain": [
       "2⋅sin(x) - sin(2⋅x)\n",
       "───────────────────\n",
       "     x - sin(x)    "
      ]
     },
     "execution_count": 19,
     "metadata": {},
     "output_type": "execute_result"
    }
   ],
   "source": [
    "expresionB"
   ]
  },
  {
   "cell_type": "code",
   "execution_count": 21,
   "metadata": {},
   "outputs": [],
   "source": [
    "a = sym.symbols('a')"
   ]
  },
  {
   "cell_type": "code",
   "execution_count": 26,
   "metadata": {
    "scrolled": true
   },
   "outputs": [],
   "source": [
    "lim_a = sym.limit(expresionB, x, a)\n",
    "lim_a"
   ]
  },
  {
   "cell_type": "code",
   "execution_count": 30,
   "metadata": {},
   "outputs": [
    {
     "data": {
      "image/png": "[encoded data removed]",
      "text/latex": [
       "$\\displaystyle - \\frac{\\sin{\\left(2 a \\right)} - 2}{a - 1}$"
      ],
      "text/plain": [
       "-(sin(2⋅a) - 2) \n",
       "────────────────\n",
       "     a - 1      "
      ]
     },
     "execution_count": 30,
     "metadata": {},
     "output_type": "execute_result"
    }
   ],
   "source": [
    "lim_a.subs(sym.sin(a), 1)"
   ]
  },
  {
   "cell_type": "code",
   "execution_count": 31,
   "metadata": {},
   "outputs": [
    {
     "data": {
      "image/png": "[encoded data removed]",
      "text/latex": [
       "$\\displaystyle 6$"
      ],
      "text/plain": [
       "6"
      ]
     },
     "execution_count": 31,
     "metadata": {},
     "output_type": "execute_result"
    }
   ],
   "source": [
    "lim_0 = sym.limit(expresionB, x, 0)\n",
    "lim_0"
   ]
  },
  {
   "cell_type": "code",
   "execution_count": 58,
   "metadata": {},
   "outputs": [
    {
     "data": {
      "image/png": "[encoded data removed]",
      "text/plain": [
       "<Figure size 432x288 with 1 Axes>"
      ]
     },
     "metadata": {
      "needs_background": "light"
     },
     "output_type": "display_data"
    },
    {
     "data": {
      "text/plain": [
       "<sympy.plotting.plot.Plot at 0x1cd18b1f3c8>"
      ]
     },
     "execution_count": 58,
     "metadata": {},
     "output_type": "execute_result"
    }
   ],
   "source": [
    "sym.plot(expresionB)"
   ]
  },
  {
   "cell_type": "markdown",
   "metadata": {},
   "source": [
    "## Aproximaciones\n",
    "\n",
    "Puede aproximar funciones con la serie de Taylor."
   ]
  },
  {
   "cell_type": "code",
   "execution_count": 44,
   "metadata": {
    "scrolled": true
   },
   "outputs": [
    {
     "data": {
      "image/png": "[encoded data removed]",
      "text/latex": [
       "$\\displaystyle 0.8913891841025 + 0.0707372016677029 x + O\\left(\\left(x - 1.5\\right)^{2}; x\\rightarrow 1.5\\right)$"
      ],
      "text/plain": [
       "                                          ⎛         2         ⎞\n",
       "0.8913891841025 + 0.0707372016677029⋅x + O⎝(x - 1.5) ; x → 1.5⎠"
      ]
     },
     "execution_count": 44,
     "metadata": {},
     "output_type": "execute_result"
    }
   ],
   "source": [
    "expresionC = sym.sin(x)\n",
    "sym.series(expresionC, x, 1.5, 2) \n",
    "# Serie de Taylor en términos de x, al rededor de x=1.5, orden 2."
   ]
  },
  {
   "cell_type": "markdown",
   "metadata": {},
   "source": [
    "Use `.removeO()`"
   ]
  },
  {
   "cell_type": "code",
   "execution_count": 47,
   "metadata": {},
   "outputs": [
    {
     "data": {
      "image/png": "[encoded data removed]",
      "text/latex": [
       "$\\displaystyle 0.997494986604054$"
      ],
      "text/plain": [
       "0.997494986604054"
      ]
     },
     "execution_count": 47,
     "metadata": {},
     "output_type": "execute_result"
    }
   ],
   "source": [
    "temp = sym.series(expresionC, x, 1.5, 1)\n",
    "temp.removeO()"
   ]
  },
  {
   "cell_type": "markdown",
   "metadata": {},
   "source": [
    "SymPy mantiene la representación exacta de los números, aunque pueden aproximarse con \"`float`\" o \"`sympy.N`\" si hay variables."
   ]
  },
  {
   "cell_type": "code",
   "execution_count": 53,
   "metadata": {},
   "outputs": [
    {
     "data": {
      "image/png": "[encoded data removed]",
      "text/latex": [
       "$\\displaystyle \\sqrt{2} \\pi$"
      ],
      "text/plain": [
       "√2⋅π"
      ]
     },
     "execution_count": 53,
     "metadata": {},
     "output_type": "execute_result"
    }
   ],
   "source": [
    "c = sym.sqrt(2)*sym.pi\n",
    "c"
   ]
  },
  {
   "cell_type": "code",
   "execution_count": 54,
   "metadata": {},
   "outputs": [
    {
     "data": {
      "image/png": "[encoded data removed]",
      "text/latex": [
       "$\\displaystyle 4.442882938158366$"
      ],
      "text/plain": [
       "4.442882938158366"
      ]
     },
     "execution_count": 54,
     "metadata": {},
     "output_type": "execute_result"
    }
   ],
   "source": [
    "float(c)"
   ]
  },
  {
   "cell_type": "code",
   "execution_count": 55,
   "metadata": {},
   "outputs": [
    {
     "data": {
      "image/png": "[encoded data removed]",
      "text/latex": [
       "$\\displaystyle 4.44288293815837 x$"
      ],
      "text/plain": [
       "4.44288293815837⋅x"
      ]
     },
     "execution_count": 55,
     "metadata": {},
     "output_type": "execute_result"
    }
   ],
   "source": [
    "sym.N(c*x)"
   ]
  },
  {
   "cell_type": "markdown",
   "metadata": {},
   "source": [
    "## Solución de ecuaciones\n",
    "\n",
    "Soluciona ecuaciones con la función \"`solve`\".\n",
    "\n",
    "\n",
    "\\begin{align}\n",
    "               2x^2 + 2 &= 4 \\\\\n",
    "           2x^2 + 2 - 2 &= 4 - 2 \\\\\n",
    "                  2x^2  &= 2 \\\\\n",
    "        \\frac{2x^2}{2}  &= \\frac{2}{2} \\\\\n",
    "                    x^2 &= 1 \\\\\n",
    " \\end{align}"
   ]
  },
  {
   "cell_type": "code",
   "execution_count": 60,
   "metadata": {},
   "outputs": [
    {
     "data": {
      "image/png": "[encoded data removed]",
      "text/plain": [
       "<Figure size 432x288 with 1 Axes>"
      ]
     },
     "metadata": {
      "needs_background": "light"
     },
     "output_type": "display_data"
    },
    {
     "data": {
      "text/plain": [
       "<sympy.plotting.plot.Plot at 0x1cd189c7a20>"
      ]
     },
     "execution_count": 60,
     "metadata": {},
     "output_type": "execute_result"
    }
   ],
   "source": []
  },
  {
   "cell_type": "code",
   "execution_count": 72,
   "metadata": {},
   "outputs": [
    {
     "data": {
      "image/png": "[encoded data removed]",
      "text/plain": [
       "<Figure size 432x288 with 1 Axes>"
      ]
     },
     "metadata": {
      "needs_background": "light"
     },
     "output_type": "display_data"
    },
    {
     "data": {
      "text/plain": [
       "<sympy.plotting.plot.Plot at 0x1cd1a40c4e0>"
      ]
     },
     "execution_count": 72,
     "metadata": {},
     "output_type": "execute_result"
    }
   ],
   "source": [
    "sym.plot(2*x**2 + 2,(x, -2, 2))"
   ]
  },
  {
   "cell_type": "code",
   "execution_count": 63,
   "metadata": {
    "scrolled": true
   },
   "outputs": [
    {
     "data": {
      "image/png": "[encoded data removed]",
      "text/latex": [
       "$\\displaystyle \\left[ -1, \\  1\\right]$"
      ],
      "text/plain": [
       "[-1, 1]"
      ]
     },
     "execution_count": 63,
     "metadata": {},
     "output_type": "execute_result"
    }
   ],
   "source": [
    "soluciones = sym.solve(2*x**2 + 2 - 4)\n",
    "soluciones"
   ]
  },
  {
   "cell_type": "code",
   "execution_count": 64,
   "metadata": {
    "scrolled": true
   },
   "outputs": [
    {
     "data": {
      "image/png": "[encoded data removed]",
      "text/latex": [
       "$\\displaystyle -1$"
      ],
      "text/plain": [
       "-1"
      ]
     },
     "execution_count": 64,
     "metadata": {},
     "output_type": "execute_result"
    }
   ],
   "source": [
    "soluciones[0]"
   ]
  },
  {
   "cell_type": "markdown",
   "metadata": {},
   "source": [
    "Con \"`sympy.Eq`\" se pueden construir ecuaciones."
   ]
  },
  {
   "cell_type": "code",
   "execution_count": 65,
   "metadata": {},
   "outputs": [
    {
     "data": {
      "image/png": "[encoded data removed]",
      "text/latex": [
       "$\\displaystyle 2 x^{2} + 2 = 4$"
      ],
      "text/plain": [
       "   2        \n",
       "2⋅x  + 2 = 4"
      ]
     },
     "execution_count": 65,
     "metadata": {},
     "output_type": "execute_result"
    }
   ],
   "source": [
    "eqA = sym.Eq(2*x**2 + 2, 4)\n",
    "eqA"
   ]
  },
  {
   "cell_type": "code",
   "execution_count": 67,
   "metadata": {
    "scrolled": true
   },
   "outputs": [
    {
     "data": {
      "image/png": "[encoded data removed]",
      "text/latex": [
       "$\\displaystyle \\left\\{ -1 : 1, \\  1 : 1\\right\\}$"
      ],
      "text/plain": [
       "{-1: 1, 1: 1}"
      ]
     },
     "execution_count": 67,
     "metadata": {},
     "output_type": "execute_result"
    }
   ],
   "source": [
    "sym.roots(eqA)"
   ]
  },
  {
   "cell_type": "code",
   "execution_count": 75,
   "metadata": {},
   "outputs": [
    {
     "data": {
      "image/png": "[encoded data removed]",
      "text/latex": [
       "$\\displaystyle 2 x^{2} + 2$"
      ],
      "text/plain": [
       "   2    \n",
       "2⋅x  + 2"
      ]
     },
     "execution_count": 75,
     "metadata": {},
     "output_type": "execute_result"
    }
   ],
   "source": [
    "eqA.lhs  # lado izquierdo de la ecuación"
   ]
  },
  {
   "cell_type": "code",
   "execution_count": 79,
   "metadata": {},
   "outputs": [
    {
     "data": {
      "image/png": "[encoded data removed]",
      "text/latex": [
       "$\\displaystyle 4$"
      ],
      "text/plain": [
       "4"
      ]
     },
     "execution_count": 79,
     "metadata": {},
     "output_type": "execute_result"
    }
   ],
   "source": [
    "eqA.rhs  # lado derecho de la ecuación"
   ]
  },
  {
   "cell_type": "code",
   "execution_count": 78,
   "metadata": {},
   "outputs": [
    {
     "data": {
      "image/png": "[encoded data removed]",
      "text/plain": [
       "<Figure size 432x288 with 1 Axes>"
      ]
     },
     "metadata": {
      "needs_background": "light"
     },
     "output_type": "display_data"
    }
   ],
   "source": [
    "g1 = sym.plot(eqA.lhs,(x, -2, 2), show = False,line_color='blue')\n",
    "g2 = sym.plot(eqA.rhs,(x, -2, 2), show = False,line_color='red')\n",
    "g1.extend(g2)\n",
    "g1.show()"
   ]
  },
  {
   "cell_type": "markdown",
   "metadata": {},
   "source": [
    "Puede resolverse un sistema de ecuaciones."
   ]
  },
  {
   "cell_type": "code",
   "execution_count": 68,
   "metadata": {
    "scrolled": true
   },
   "outputs": [
    {
     "data": {
      "image/png": "[encoded data removed]",
      "text/latex": [
       "$\\displaystyle \\left\\{ x : 1, \\  y : 1\\right\\}$"
      ],
      "text/plain": [
       "{x: 1, y: 1}"
      ]
     },
     "execution_count": 68,
     "metadata": {},
     "output_type": "execute_result"
    }
   ],
   "source": [
    "x, y = sym.symbols('x, y')\n",
    "sym.solve([x + y - 2, \n",
    "           x - y - 0], [x, y])"
   ]
  },
  {
   "cell_type": "code",
   "execution_count": 71,
   "metadata": {
    "scrolled": true
   },
   "outputs": [
    {
     "data": {
      "image/png": "[encoded data removed]",
      "text/latex": [
       "$\\displaystyle \\left\\{ x : \\frac{c + 2}{2 a}, \\  y : \\frac{2 - c}{2 b}\\right\\}$"
      ],
      "text/plain": [
       "⎧   c + 2     2 - c⎫\n",
       "⎨x: ─────, y: ─────⎬\n",
       "⎩    2⋅a       2⋅b ⎭"
      ]
     },
     "execution_count": 71,
     "metadata": {},
     "output_type": "execute_result"
    }
   ],
   "source": [
    "a, b, c = sym.symbols('a, b, c')\n",
    "sym.solve([a*x + b*y - 2,\n",
    "           a*x - b*y - c], [x, y])"
   ]
  }
 ],
 "metadata": {
  "anaconda-cloud": {},
  "kernelspec": {
   "display_name": "Python 3",
   "language": "python",
   "name": "python3"
  },
  "language_info": {
   "codemirror_mode": {
    "name": "ipython",
    "version": 3
   },
   "file_extension": ".py",
   "mimetype": "text/x-python",
   "name": "python",
   "nbconvert_exporter": "python",
   "pygments_lexer": "ipython3",
   "version": "3.7.3"
  },
  "latex_envs": {
   "bibliofile": "biblio.bib",
   "cite_by": "apalike",
   "current_citInitial": 1,
   "eqLabelWithNumbers": true,
   "eqNumInitial": 0
  }
 },
 "nbformat": 4,
 "nbformat_minor": 2
}
