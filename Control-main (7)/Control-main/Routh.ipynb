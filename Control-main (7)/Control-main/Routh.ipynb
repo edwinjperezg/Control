{
 "cells": [
  {
   "cell_type": "code",
   "execution_count": 1,
   "id": "845287fa",
   "metadata": {},
   "outputs": [],
   "source": [
    "import numpy as np\n",
    "import sympy as sym\n",
    "import matplotlib.pyplot as plt\n",
    "%matplotlib inline\n",
    "import control"
   ]
  },
  {
   "cell_type": "markdown",
   "id": "c0fbdab3",
   "metadata": {},
   "source": [
    "# Criterio de estabilidad de Routh\n",
    "\n"
   ]
  },
  {
   "cell_type": "markdown",
   "id": "d8f7ea41",
   "metadata": {},
   "source": [
    "Hasta el momento se ha mostrado que se puede identificar si un sistema LTI es estable o no al encontrar los polos del sistema, pues si TODOS los polos del sistema tienen  parte real negativa, el sistema es estable. Además, se ha evidenciado que al realimentar negativamente un sistema, los polos del sistema se desplazan a nuevas ubicaciones.\n",
    "\n",
    "El [Criterio de estabilidad de Routh-Hurwitz](https://en.wikipedia.org/wiki/Routh%E2%80%93Hurwitz_stability_criterion) es una forma de determinar la estabilidad del sistema sin tener que calcular sus raíces. Además, al evitar el cálculo de las raíces, se evaden posibles errores al trabajar con polinomios de orden elevado."
   ]
  },
  {
   "cell_type": "markdown",
   "id": "3546a9a2",
   "metadata": {},
   "source": [
    "**Ejemplo**\n",
    "\n",
    "Suponga un proceso modelado por:\n",
    "\n",
    "$$G_p(s) = \\frac{1}{\\left (s + 1\\right )^{10}}$$\n",
    "\n",
    "Las raíces del sistema son:\n",
    "\n",
    "$$s_{1,2,3...,10} = -1$$"
   ]
  },
  {
   "cell_type": "code",
   "execution_count": 2,
   "id": "63dddc2f",
   "metadata": {},
   "outputs": [
    {
     "data": {
      "text/latex": [
       "$$\\frac{1}{s^{10} + 10 s^9 + 45 s^8 + 120 s^7 + 210 s^6 + 252 s^5 + 210 s^4 + 120 s^3 + 45 s^2 + 10 s + 1}$$"
      ],
      "text/plain": [
       "TransferFunction(array([1.]), array([  1,  10,  45, 120, 210, 252, 210, 120,  45,  10,   1]))"
      ]
     },
     "execution_count": 2,
     "metadata": {},
     "output_type": "execute_result"
    }
   ],
   "source": [
    "# Se define la función de transferencia del proceso\n",
    "Gp = control.tf(1, [1,1])\n",
    "Gp10 = Gp*Gp*Gp*Gp*Gp*Gp*Gp*Gp*Gp*Gp\n",
    "Gp10"
   ]
  },
  {
   "cell_type": "code",
   "execution_count": 3,
   "id": "107f6714",
   "metadata": {},
   "outputs": [
    {
     "data": {
      "text/plain": [
       "array([], dtype=float64)"
      ]
     },
     "execution_count": 3,
     "metadata": {},
     "output_type": "execute_result"
    }
   ],
   "source": [
    "ceros = Gp10.zero()\n",
    "ceros"
   ]
  },
  {
   "cell_type": "code",
   "execution_count": 4,
   "id": "98c7247b",
   "metadata": {},
   "outputs": [
    {
     "data": {
      "text/plain": [
       "array([-1.04908973+0.01621888j, -1.04908973-0.01621888j,\n",
       "       -1.02967474+0.04196254j, -1.02967474-0.04196254j,\n",
       "       -0.99920869+0.05091358j, -0.99920869-0.05091358j,\n",
       "       -0.96983514+0.04045704j, -0.96983514-0.04045704j,\n",
       "       -0.9521917 +0.01528717j, -0.9521917 -0.01528717j])"
      ]
     },
     "execution_count": 4,
     "metadata": {},
     "output_type": "execute_result"
    }
   ],
   "source": [
    "polos = Gp10.pole()\n",
    "polos"
   ]
  },
  {
   "cell_type": "markdown",
   "id": "3272554e",
   "metadata": {},
   "source": [
    "Observe que los polos no están ubicados en $s=-1$. Estos errores se deben a las representaciones discretas de los números."
   ]
  },
  {
   "cell_type": "markdown",
   "id": "74690c9c",
   "metadata": {},
   "source": [
    "La función `routh` permite encontrar la matriz de Routh a partir de un objeto tipo `Poly` de `Sympy`\n"
   ]
  },
  {
   "cell_type": "code",
   "execution_count": 5,
   "id": "1961843e",
   "metadata": {},
   "outputs": [
    {
     "name": "stdout",
     "output_type": "stream",
     "text": [
      "Help on function routh in module tbcontrol.symbolic:\n",
      "\n",
      "routh(p)\n",
      "    Construct the Routh-Hurwitz array given a polynomial in s\n",
      "    \n",
      "    Input: p - a sympy.Poly object\n",
      "    Output: The Routh-Hurwitz array as a sympy.Matrix object\n",
      "\n"
     ]
    }
   ],
   "source": [
    "from tbcontrol.symbolic import routh\n",
    "help(routh)"
   ]
  },
  {
   "cell_type": "code",
   "execution_count": 6,
   "id": "de5fb1b1",
   "metadata": {},
   "outputs": [
    {
     "data": {
      "text/latex": [
       "$\\displaystyle \\operatorname{Poly}{\\left( a_{6} s^{6} + a_{5} s^{5} + a_{4} s^{4} + a_{3} s^{3} + a_{2} s^{2} + a_{1} s + a_{0}, s, domain=\\mathbb{Z}\\left[a_{0}, a_{1}, a_{2}, a_{3}, a_{4}, a_{5}, a_{6}\\right] \\right)}$"
      ],
      "text/plain": [
       "Poly(a_6*s**6 + a_5*s**5 + a_4*s**4 + a_3*s**3 + a_2*s**2 + a_1*s + a_0, s, domain='ZZ[a_0,a_1,a_2,a_3,a_4,a_5,a_6]')"
      ]
     },
     "execution_count": 6,
     "metadata": {},
     "output_type": "execute_result"
    }
   ],
   "source": [
    "s = sym.Symbol('s')\n",
    "\n",
    "a0, a1, a2, a3, a4,a5,a6,a7,a8,a9,a10 = sym.symbols('a_0:11')\n",
    "p = (a0 + a1*s**1 + a2*s**2 + a3*s**3 + a4*s**4 + a5*s**5 + \n",
    "     a6*s**6)\n",
    "p = sym.Poly(p, s)\n",
    "p"
   ]
  },
  {
   "cell_type": "code",
   "execution_count": 7,
   "id": "feda53f0",
   "metadata": {},
   "outputs": [
    {
     "data": {
      "text/latex": [
       "$\\displaystyle \\left[\\begin{matrix}a_{6} & a_{4} & a_{2} & a_{0}\\\\a_{5} & a_{3} & a_{1} & 0\\\\- \\frac{a_{3} a_{6}}{a_{5}} + a_{4} & - \\frac{a_{1} a_{6}}{a_{5}} + a_{2} & a_{0} & 0\\\\\\frac{a_{3} \\left(a_{3} a_{6} - a_{4} a_{5}\\right) + a_{5} \\left(- a_{1} a_{6} + a_{2} a_{5}\\right)}{a_{3} a_{6} - a_{4} a_{5}} & \\frac{a_{0} a_{5}^{2} + a_{1} \\left(a_{3} a_{6} - a_{4} a_{5}\\right)}{a_{3} a_{6} - a_{4} a_{5}} & 0 & 0\\\\\\frac{\\left(a_{0} a_{5}^{2} + a_{1} \\left(a_{3} a_{6} - a_{4} a_{5}\\right)\\right) \\left(a_{3} a_{6} - a_{4} a_{5}\\right) - \\left(a_{1} a_{6} - a_{2} a_{5}\\right) \\left(a_{3} \\left(a_{3} a_{6} - a_{4} a_{5}\\right) - a_{5} \\left(a_{1} a_{6} - a_{2} a_{5}\\right)\\right)}{a_{5} \\left(a_{3} \\left(a_{3} a_{6} - a_{4} a_{5}\\right) - a_{5} \\left(a_{1} a_{6} - a_{2} a_{5}\\right)\\right)} & a_{0} & 0 & 0\\\\\\frac{- a_{0} a_{5} \\left(a_{3} \\left(a_{3} a_{6} - a_{4} a_{5}\\right) - a_{5} \\left(a_{1} a_{6} - a_{2} a_{5}\\right)\\right)^{2} + \\left(a_{0} a_{5}^{2} + a_{1} \\left(a_{3} a_{6} - a_{4} a_{5}\\right)\\right) \\left(\\left(a_{0} a_{5}^{2} + a_{1} \\left(a_{3} a_{6} - a_{4} a_{5}\\right)\\right) \\left(a_{3} a_{6} - a_{4} a_{5}\\right) - \\left(a_{1} a_{6} - a_{2} a_{5}\\right) \\left(a_{3} \\left(a_{3} a_{6} - a_{4} a_{5}\\right) - a_{5} \\left(a_{1} a_{6} - a_{2} a_{5}\\right)\\right)\\right)}{\\left(a_{3} a_{6} - a_{4} a_{5}\\right) \\left(\\left(a_{0} a_{5}^{2} + a_{1} \\left(a_{3} a_{6} - a_{4} a_{5}\\right)\\right) \\left(a_{3} a_{6} - a_{4} a_{5}\\right) - \\left(a_{1} a_{6} - a_{2} a_{5}\\right) \\left(a_{3} \\left(a_{3} a_{6} - a_{4} a_{5}\\right) - a_{5} \\left(a_{1} a_{6} - a_{2} a_{5}\\right)\\right)\\right)} & 0 & 0 & 0\\\\a_{0} & 0 & 0 & 0\\end{matrix}\\right]$"
      ],
      "text/plain": [
       "Matrix([\n",
       "[                                                                                                                                                                                                                                                                                                                                                                                                           a_6,                                                        a_4, a_2, a_0],\n",
       "[                                                                                                                                                                                                                                                                                                                                                                                                           a_5,                                                        a_3, a_1,   0],\n",
       "[                                                                                                                                                                                                                                                                                                                                                                                            -a_3*a_6/a_5 + a_4,                                         -a_1*a_6/a_5 + a_2, a_0,   0],\n",
       "[                                                                                                                                                                                                                                                                                                                                      (a_3*(a_3*a_6 - a_4*a_5) + a_5*(-a_1*a_6 + a_2*a_5))/(a_3*a_6 - a_4*a_5), (a_0*a_5**2 + a_1*(a_3*a_6 - a_4*a_5))/(a_3*a_6 - a_4*a_5),   0,   0],\n",
       "[                                                                                                                                                                                                              ((a_0*a_5**2 + a_1*(a_3*a_6 - a_4*a_5))*(a_3*a_6 - a_4*a_5) - (a_1*a_6 - a_2*a_5)*(a_3*(a_3*a_6 - a_4*a_5) - a_5*(a_1*a_6 - a_2*a_5)))/(a_5*(a_3*(a_3*a_6 - a_4*a_5) - a_5*(a_1*a_6 - a_2*a_5))),                                                        a_0,   0,   0],\n",
       "[(-a_0*a_5*(a_3*(a_3*a_6 - a_4*a_5) - a_5*(a_1*a_6 - a_2*a_5))**2 + (a_0*a_5**2 + a_1*(a_3*a_6 - a_4*a_5))*((a_0*a_5**2 + a_1*(a_3*a_6 - a_4*a_5))*(a_3*a_6 - a_4*a_5) - (a_1*a_6 - a_2*a_5)*(a_3*(a_3*a_6 - a_4*a_5) - a_5*(a_1*a_6 - a_2*a_5))))/((a_3*a_6 - a_4*a_5)*((a_0*a_5**2 + a_1*(a_3*a_6 - a_4*a_5))*(a_3*a_6 - a_4*a_5) - (a_1*a_6 - a_2*a_5)*(a_3*(a_3*a_6 - a_4*a_5) - a_5*(a_1*a_6 - a_2*a_5)))),                                                          0,   0,   0],\n",
       "[                                                                                                                                                                                                                                                                                                                                                                                                           a_0,                                                          0,   0,   0]])"
      ]
     },
     "execution_count": 7,
     "metadata": {},
     "output_type": "execute_result"
    }
   ],
   "source": [
    "routh(p)"
   ]
  },
  {
   "cell_type": "markdown",
   "id": "b63a7366",
   "metadata": {},
   "source": [
    "El sistema es estable siempre que los elementos de la primera columna sean del mismo signo."
   ]
  },
  {
   "cell_type": "markdown",
   "id": "1a2f451f",
   "metadata": {},
   "source": [
    "----------------------------------\n",
    "\n",
    "¿Qué pasa con el sistema de décimo orden definido anteriormente?"
   ]
  },
  {
   "cell_type": "code",
   "execution_count": 8,
   "id": "c0e49e9b",
   "metadata": {},
   "outputs": [
    {
     "data": {
      "text/latex": [
       "$\\displaystyle \\left[\\begin{matrix}1 & 45 & 210 & 210 & 45 & 1\\\\10 & 120 & 252 & 120 & 10 & 0\\\\33 & \\frac{924}{5} & 198 & 44 & 1 & 0\\\\64 & 192 & \\frac{320}{3} & \\frac{320}{33} & 0 & 0\\\\\\frac{429}{5} & 143 & 39 & 1 & 0 & 0\\\\\\frac{256}{3} & \\frac{2560}{33} & \\frac{1280}{143} & 0 & 0 & 0\\\\65 & 30 & 1 & 0 & 0 & 0\\\\\\frac{16384}{429} & \\frac{16384}{2145} & 0 & 0 & 0 & 0\\\\17 & 1 & 0 & 0 & 0 & 0\\\\\\frac{65536}{12155} & 0 & 0 & 0 & 0 & 0\\\\1 & 0 & 0 & 0 & 0 & 0\\end{matrix}\\right]$"
      ],
      "text/plain": [
       "Matrix([\n",
       "[          1,         45,      210,    210, 45, 1],\n",
       "[         10,        120,      252,    120, 10, 0],\n",
       "[         33,      924/5,      198,     44,  1, 0],\n",
       "[         64,        192,    320/3, 320/33,  0, 0],\n",
       "[      429/5,        143,       39,      1,  0, 0],\n",
       "[      256/3,    2560/33, 1280/143,      0,  0, 0],\n",
       "[         65,         30,        1,      0,  0, 0],\n",
       "[  16384/429, 16384/2145,        0,      0,  0, 0],\n",
       "[         17,          1,        0,      0,  0, 0],\n",
       "[65536/12155,          0,        0,      0,  0, 0],\n",
       "[          1,          0,        0,      0,  0, 0]])"
      ]
     },
     "execution_count": 8,
     "metadata": {},
     "output_type": "execute_result"
    }
   ],
   "source": [
    "Coef_den = Gp10.den[0][0].tolist()\n",
    "orden_den = len(Coef_den)-1\n",
    "Gp10Den = 0\n",
    "for val in Coef_den:\n",
    "    Gp10Den = Gp10Den + val*s**(orden_den)\n",
    "    orden_den = orden_den-1\n",
    "Gp10Den = sym.Poly(Gp10Den, s)\n",
    "routh(Gp10Den)"
   ]
  },
  {
   "cell_type": "markdown",
   "id": "ad8a3c1a",
   "metadata": {},
   "source": [
    "Todos los elementos de la primera columna son positivos, por lo cuál el sistema es estable."
   ]
  },
  {
   "cell_type": "markdown",
   "id": "49a249ea",
   "metadata": {},
   "source": [
    "¿y si se realimenta y se configura un controlador $G_c(s) = k_c$?"
   ]
  },
  {
   "cell_type": "code",
   "execution_count": 9,
   "id": "d5f0ce6b",
   "metadata": {},
   "outputs": [
    {
     "data": {
      "text/latex": [
       "$\\displaystyle \\left[\\begin{matrix}1.0 & 45.0 & 210.0 & 210.0 & 45.0 & 1.0 k_{c} + 1.0\\\\10.0 & 120.0 & 252.0 & 120.0 & 10.0 & 0\\\\33.0 & 184.8 & 198.0 & 44.0 & 1.0 k_{c} + 1.0 & 0\\\\64.0 & 192.0 & 106.666666666667 & 9.6969696969697 - 0.303030303030303 k_{c} & 0 & 0\\\\85.8 & 143.0 & 0.15625 k_{c} + 39.0 & 1.0 k_{c} + 1.0 & 0 & 0\\\\85.3333333333333 & 77.5757575757576 - 0.116550116550117 k_{c} & 8.95104895104895 - 1.04895104895105 k_{c} & 0 & 0 & 0\\\\0.1171875 k_{c} + 65.0 & 1.2109375 k_{c} + 30.0 & 1.0 k_{c} + 1.0 & 0 & 0 & 0\\\\\\frac{- 0.0136582167832168 k_{c}^{2} - 101.818181818182 k_{c} + 2482.42424242424}{0.1171875 k_{c} + 65.0} & \\frac{- 0.122923951048951 k_{c}^{2} - 152.4662004662 k_{c} + 496.484848484848}{0.1171875 k_{c} + 65.0} & 0 & 0 & 0 & 0\\\\\\frac{1.0 \\left(0.00213409637237762 k_{c}^{3} + 97.8480113636364 k_{c}^{2} - 9803.63636363636 k_{c} - 42201.2121212121\\right)}{0.0136582167832168 k_{c}^{2} + 101.818181818182 k_{c} - 2482.42424242424} & 1.0 k_{c} + 1.0 & 0 & 0 & 0 & 0\\\\\\frac{- 7.5784672314546 \\cdot 10^{-5} k_{c}^{5} - 9.57174557804885 k_{c}^{4} - 3410.44077134987 k_{c}^{3} + 1053278.06738716 k_{c}^{2} + 7223819.82623436 k_{c} - 14789832.2865014}{0.000250089418638002 k_{c}^{4} + 11.6052800958807 k_{c}^{3} + 5211.25710227273 k_{c}^{2} - 642181.818181818 k_{c} - 2743078.78787879} & 0 & 0 & 0 & 0 & 0\\\\1.0 k_{c} + 1.0 & 0 & 0 & 0 & 0 & 0\\end{matrix}\\right]$"
      ],
      "text/plain": [
       "Matrix([\n",
       "[                                                                                                                                                                                                                                                                             1.0,                                                                                       45.0,                                   210.0,                                   210.0,          45.0, 1.0*k_c + 1.0],\n",
       "[                                                                                                                                                                                                                                                                            10.0,                                                                                      120.0,                                   252.0,                                   120.0,          10.0,             0],\n",
       "[                                                                                                                                                                                                                                                                            33.0,                                                                                      184.8,                                   198.0,                                    44.0, 1.0*k_c + 1.0,             0],\n",
       "[                                                                                                                                                                                                                                                                            64.0,                                                                                      192.0,                        106.666666666667, 9.6969696969697 - 0.303030303030303*k_c,             0,             0],\n",
       "[                                                                                                                                                                                                                                                                            85.8,                                                                                      143.0,                      0.15625*k_c + 39.0,                           1.0*k_c + 1.0,             0,             0],\n",
       "[                                                                                                                                                                                                                                                                85.3333333333333,                                                   77.5757575757576 - 0.116550116550117*k_c, 8.95104895104895 - 1.04895104895105*k_c,                                       0,             0,             0],\n",
       "[                                                                                                                                                                                                                                                            0.1171875*k_c + 65.0,                                                                       1.2109375*k_c + 30.0,                           1.0*k_c + 1.0,                                       0,             0,             0],\n",
       "[                                                                                                                                                                                   (-0.0136582167832168*k_c**2 - 101.818181818182*k_c + 2482.42424242424)/(0.1171875*k_c + 65.0), (-0.122923951048951*k_c**2 - 152.4662004662*k_c + 496.484848484848)/(0.1171875*k_c + 65.0),                                       0,                                       0,             0,             0],\n",
       "[                                                                                                      1.0*(0.00213409637237762*k_c**3 + 97.8480113636364*k_c**2 - 9803.63636363636*k_c - 42201.2121212121)/(0.0136582167832168*k_c**2 + 101.818181818182*k_c - 2482.42424242424),                                                                              1.0*k_c + 1.0,                                       0,                                       0,             0,             0],\n",
       "[(-7.5784672314546e-5*k_c**5 - 9.57174557804885*k_c**4 - 3410.44077134987*k_c**3 + 1053278.06738716*k_c**2 + 7223819.82623436*k_c - 14789832.2865014)/(0.000250089418638002*k_c**4 + 11.6052800958807*k_c**3 + 5211.25710227273*k_c**2 - 642181.818181818*k_c - 2743078.78787879),                                                                                          0,                                       0,                                       0,             0,             0],\n",
       "[                                                                                                                                                                                                                                                                   1.0*k_c + 1.0,                                                                                          0,                                       0,                                       0,             0,             0]])"
      ]
     },
     "execution_count": 9,
     "metadata": {},
     "output_type": "execute_result"
    }
   ],
   "source": [
    "kc = sym.symbols('k_c', real=True,positive = True)\n",
    "\n",
    "##########################################\n",
    "Coef_num = Gp10.num[0][0].tolist()\n",
    "orden_num = len(Coef_num)-1\n",
    "Gp10Num = 0\n",
    "for val in Coef_num:\n",
    "    Gp10Num = Gp10Num + val*s**(orden_num)\n",
    "    orden_num = orden_num-1\n",
    "Gp10Num = sym.Poly(Gp10Num, s)\n",
    "##########################################\n",
    "Coef_den = Gp10.den[0][0].tolist()\n",
    "orden_den = len(Coef_den)-1\n",
    "Gp10Den = 0\n",
    "for val in Coef_den:\n",
    "    Gp10Den = Gp10Den + val*s**(orden_den)\n",
    "    orden_den = orden_den-1\n",
    "Gp10Den = sym.Poly(Gp10Den, s)\n",
    "#########################################3\n",
    "### DenominadorLC = Nc*Np + Dc*Dp\n",
    "A = routh(kc*Gp10Num + Gp10Den)\n",
    "A"
   ]
  },
  {
   "cell_type": "code",
   "execution_count": 10,
   "id": "1b61497c",
   "metadata": {},
   "outputs": [
    {
     "data": {
      "text/latex": [
       "$\\displaystyle \\left(104.09924325141 < k_{c} \\vee k_{c} < 24.3017308778435\\right) \\wedge \\left(\\left(104.09924325141 < k_{c} \\wedge k_{c} < 203.14827879423\\right) \\vee k_{c} < 1.65172120576948\\right) \\wedge k_{c} < 24.3017308778435$"
      ],
      "text/plain": [
       "(k_c < 24.3017308778435) & ((104.09924325141 < k_c) | (k_c < 24.3017308778435)) & ((k_c < 1.65172120576948) | ((104.09924325141 < k_c) & (k_c < 203.14827879423)))"
      ]
     },
     "execution_count": 10,
     "metadata": {},
     "output_type": "execute_result"
    }
   ],
   "source": [
    "sym.solve([e > 0 for e in A[:, 0]], kc)"
   ]
  },
  {
   "cell_type": "markdown",
   "id": "1c82af33",
   "metadata": {},
   "source": [
    "Esto indica que $k_c<1.652$ permite obtener un sistema estable en lazo cerrado."
   ]
  },
  {
   "cell_type": "code",
   "execution_count": 11,
   "id": "27e11c4d",
   "metadata": {},
   "outputs": [],
   "source": [
    "k1 = 1.6\n",
    "k2 = 1.7\n",
    "\n",
    "Gp10LC1 = control.feedback(k1*Gp10,1)\n",
    "Gp10LC2 = control.feedback(k2*Gp10,1)\n"
   ]
  },
  {
   "cell_type": "code",
   "execution_count": 12,
   "id": "935ce21c",
   "metadata": {},
   "outputs": [
    {
     "data": {
      "text/latex": [
       "$\\displaystyle \\left[\\begin{matrix}1.0 & 45.0 & 210.0 & 210.0 & 45.0 & 2.6\\\\10.0 & 120.0 & 252.0 & 120.0 & 10.0 & 0\\\\33.0 & 184.8 & 198.0 & 44.0 & 2.6 & 0\\\\64.0 & 192.0 & 106.666666666667 & 9.21212121212121 & 0 & 0\\\\85.8 & 143.0 & 39.25 & 2.6 & 0 & 0\\\\85.3333333333333 & 77.3892773892774 & 7.27272727272727 & 0 & 0 & 0\\\\65.1875 & 31.9375 & 2.6 & 0 & 0 & 0\\\\35.5816711252953 & 3.86921177256748 & 0 & 0 & 0 & 0\\\\24.8488997615212 & 2.6 & 0 & 0 & 0 & 0\\\\0.146216154506988 & 0 & 0 & 0 & 0 & 0\\\\2.6 & 0 & 0 & 0 & 0 & 0\\end{matrix}\\right]$"
      ],
      "text/plain": [
       "Matrix([\n",
       "[              1.0,             45.0,            210.0,            210.0, 45.0, 2.6],\n",
       "[             10.0,            120.0,            252.0,            120.0, 10.0,   0],\n",
       "[             33.0,            184.8,            198.0,             44.0,  2.6,   0],\n",
       "[             64.0,            192.0, 106.666666666667, 9.21212121212121,    0,   0],\n",
       "[             85.8,            143.0,            39.25,              2.6,    0,   0],\n",
       "[ 85.3333333333333, 77.3892773892774, 7.27272727272727,                0,    0,   0],\n",
       "[          65.1875,          31.9375,              2.6,                0,    0,   0],\n",
       "[ 35.5816711252953, 3.86921177256748,                0,                0,    0,   0],\n",
       "[ 24.8488997615212,              2.6,                0,                0,    0,   0],\n",
       "[0.146216154506988,                0,                0,                0,    0,   0],\n",
       "[              2.6,                0,                0,                0,    0,   0]])"
      ]
     },
     "execution_count": 12,
     "metadata": {},
     "output_type": "execute_result"
    }
   ],
   "source": [
    "routh(k1*Gp10Num + Gp10Den)"
   ]
  },
  {
   "cell_type": "code",
   "execution_count": 13,
   "id": "df01bc5d",
   "metadata": {},
   "outputs": [
    {
     "data": {
      "text/latex": [
       "$\\displaystyle \\left[\\begin{matrix}1.0 & 45.0 & 210.0 & 210.0 & 45.0 & 2.7\\\\10.0 & 120.0 & 252.0 & 120.0 & 10.0 & 0\\\\33.0 & 184.8 & 198.0 & 44.0 & 2.7 & 0\\\\64.0 & 192.0 & 106.666666666667 & 9.18181818181818 & 0 & 0\\\\85.8 & 143.0 & 39.265625 & 2.7 & 0 & 0\\\\85.3333333333333 & 77.3776223776224 & 7.16783216783217 & 0 & 0 & 0\\\\65.19921875 & 32.05859375 & 2.7 & 0 & 0 & 0\\\\35.4190419051122 & 3.63404749345675 & 0 & 0 & 0 & 0\\\\25.3690548825024 & 2.7 & 0 & 0 & 0 & 0\\\\-0.135561330629251 & 0 & 0 & 0 & 0 & 0\\\\2.7 & 0 & 0 & 0 & 0 & 0\\end{matrix}\\right]$"
      ],
      "text/plain": [
       "Matrix([\n",
       "[               1.0,             45.0,            210.0,            210.0, 45.0, 2.7],\n",
       "[              10.0,            120.0,            252.0,            120.0, 10.0,   0],\n",
       "[              33.0,            184.8,            198.0,             44.0,  2.7,   0],\n",
       "[              64.0,            192.0, 106.666666666667, 9.18181818181818,    0,   0],\n",
       "[              85.8,            143.0,        39.265625,              2.7,    0,   0],\n",
       "[  85.3333333333333, 77.3776223776224, 7.16783216783217,                0,    0,   0],\n",
       "[       65.19921875,      32.05859375,              2.7,                0,    0,   0],\n",
       "[  35.4190419051122, 3.63404749345675,                0,                0,    0,   0],\n",
       "[  25.3690548825024,              2.7,                0,                0,    0,   0],\n",
       "[-0.135561330629251,                0,                0,                0,    0,   0],\n",
       "[               2.7,                0,                0,                0,    0,   0]])"
      ]
     },
     "execution_count": 13,
     "metadata": {},
     "output_type": "execute_result"
    }
   ],
   "source": [
    "routh(k2*Gp10Num + Gp10Den)"
   ]
  },
  {
   "cell_type": "code",
   "execution_count": 14,
   "id": "358d52a7",
   "metadata": {},
   "outputs": [
    {
     "data": {
      "text/plain": [
       "(array([-1.99682363+0.32388763j, -1.99682363-0.32388763j,\n",
       "        -1.61607088+0.84794883j, -1.61607088-0.84794883j,\n",
       "        -1.        +1.04812239j, -1.        -1.04812239j,\n",
       "        -0.38392912+0.84794883j, -0.38392912-0.84794883j,\n",
       "        -0.00317637+0.32388763j, -0.00317637-0.32388763j]),\n",
       " array([], dtype=float64))"
      ]
     },
     "execution_count": 14,
     "metadata": {},
     "output_type": "execute_result"
    },
    {
     "data": {
      "image/png": "[encoded data removed]",
      "text/plain": [
       "<Figure size 432x288 with 1 Axes>"
      ]
     },
     "metadata": {
      "needs_background": "light"
     },
     "output_type": "display_data"
    }
   ],
   "source": [
    "control.pzmap(Gp10LC1)"
   ]
  },
  {
   "cell_type": "code",
   "execution_count": 15,
   "id": "8fa931a9",
   "metadata": {},
   "outputs": [
    {
     "data": {
      "text/plain": [
       "(array([-2.00288519+0.32585715j, -2.00288519-0.32585715j,\n",
       "        -1.61981713+0.8531051j , -1.61981713-0.8531051j ,\n",
       "        -1.        +1.05449589j, -1.        -1.05449589j,\n",
       "        -0.38018287+0.8531051j , -0.38018287-0.8531051j ,\n",
       "         0.00288519+0.32585715j,  0.00288519-0.32585715j]),\n",
       " array([], dtype=float64))"
      ]
     },
     "execution_count": 15,
     "metadata": {},
     "output_type": "execute_result"
    },
    {
     "data": {
      "image/png": "[encoded data removed]",
      "text/plain": [
       "<Figure size 432x288 with 1 Axes>"
      ]
     },
     "metadata": {
      "needs_background": "light"
     },
     "output_type": "display_data"
    }
   ],
   "source": [
    "control.pzmap(Gp10LC2)"
   ]
  },
  {
   "cell_type": "markdown",
   "id": "9e9761cd",
   "metadata": {},
   "source": [
    "Considere un proceso modelado por:\n",
    "\n",
    "$$G_p(s) = \\frac{s+3}{\\left (s+2 \\right )\\left (s+1 \\right )} $$\n",
    "\n",
    "y un controlador $G_c(s)=k_c$\n",
    "\n",
    "Encuentre qué valores de $k_c$ permiten que el sistema en lazo cerrado sea estable."
   ]
  },
  {
   "cell_type": "code",
   "execution_count": 16,
   "id": "47ef4b4d",
   "metadata": {},
   "outputs": [
    {
     "data": {
      "text/latex": [
       "$$\\frac{s + 3}{s^2 + 3 s + 2}$$"
      ],
      "text/plain": [
       "TransferFunction(array([1, 3]), array([1, 3, 2]))"
      ]
     },
     "execution_count": 16,
     "metadata": {},
     "output_type": "execute_result"
    }
   ],
   "source": [
    "# Se define la función de transferencia del proceso\n",
    "Gp = control.tf([1, 3], [1,3,2])\n",
    "Gp"
   ]
  },
  {
   "cell_type": "code",
   "execution_count": 17,
   "id": "ae59e970",
   "metadata": {},
   "outputs": [
    {
     "data": {
      "text/plain": [
       "array([-3.])"
      ]
     },
     "execution_count": 17,
     "metadata": {},
     "output_type": "execute_result"
    }
   ],
   "source": [
    "ceros = Gp.zero()\n",
    "ceros"
   ]
  },
  {
   "cell_type": "code",
   "execution_count": 18,
   "id": "0cea5408",
   "metadata": {},
   "outputs": [
    {
     "data": {
      "text/plain": [
       "array([-2., -1.])"
      ]
     },
     "execution_count": 18,
     "metadata": {},
     "output_type": "execute_result"
    }
   ],
   "source": [
    "polos = Gp.pole()\n",
    "polos"
   ]
  },
  {
   "cell_type": "code",
   "execution_count": 19,
   "id": "8017633f",
   "metadata": {},
   "outputs": [
    {
     "data": {
      "text/latex": [
       "$\\displaystyle \\operatorname{Poly}{\\left( a_{2} s^{2} + a_{1} s + a_{0}, s, domain=\\mathbb{Z}\\left[a_{0}, a_{1}, a_{2}\\right] \\right)}$"
      ],
      "text/plain": [
       "Poly(a_2*s**2 + a_1*s + a_0, s, domain='ZZ[a_0,a_1,a_2]')"
      ]
     },
     "execution_count": 19,
     "metadata": {},
     "output_type": "execute_result"
    }
   ],
   "source": [
    "s = sym.Symbol('s')\n",
    "\n",
    "a0, a1, a2 = sym.symbols('a_0:3')\n",
    "p = (a0 + a1*s**1 + a2*s**2 )\n",
    "p = sym.Poly(p, s)\n",
    "p"
   ]
  },
  {
   "cell_type": "code",
   "execution_count": 20,
   "id": "c18be014",
   "metadata": {},
   "outputs": [
    {
     "data": {
      "text/latex": [
       "$\\displaystyle \\left[\\begin{matrix}1 & 3 k_{c} + 2\\\\k_{c} + 3 & 0\\\\3 k_{c} + 2 & 0\\end{matrix}\\right]$"
      ],
      "text/plain": [
       "Matrix([\n",
       "[        1, 3*k_c + 2],\n",
       "[  k_c + 3,         0],\n",
       "[3*k_c + 2,         0]])"
      ]
     },
     "execution_count": 20,
     "metadata": {},
     "output_type": "execute_result"
    }
   ],
   "source": [
    "kc = sym.symbols('k_c', real=True,positive = True)\n",
    "\n",
    "##########################################\n",
    "Coef_num = Gp.num[0][0].tolist()\n",
    "orden_num = len(Coef_num)-1\n",
    "GpNum = 0\n",
    "for val in Coef_num:\n",
    "    GpNum = GpNum + val*s**(orden_num)\n",
    "    orden_num = orden_num-1\n",
    "GpNum = sym.Poly(GpNum, s)\n",
    "##########################################\n",
    "Coef_den = Gp.den[0][0].tolist()\n",
    "orden_den = len(Coef_den)-1\n",
    "GpDen = 0\n",
    "for val in Coef_den:\n",
    "    GpDen = GpDen + val*s**(orden_den)\n",
    "    orden_den = orden_den-1\n",
    "GpDen = sym.Poly(GpDen, s)\n",
    "#########################################3\n",
    "### DenominadorLC = Nc*Np + Dc*Dp\n",
    "A = routh(kc*GpNum + GpDen)\n",
    "A"
   ]
  },
  {
   "cell_type": "code",
   "execution_count": 21,
   "id": "6816cbed",
   "metadata": {},
   "outputs": [
    {
     "data": {
      "text/plain": [
       "[]"
      ]
     },
     "execution_count": 21,
     "metadata": {},
     "output_type": "execute_result"
    }
   ],
   "source": [
    "sym.solve([e > 0 for e in A[:, 0]], kc)"
   ]
  },
  {
   "cell_type": "code",
   "execution_count": 22,
   "id": "f768c86b",
   "metadata": {},
   "outputs": [],
   "source": [
    "k1 = 0.1\n",
    "k2 = -0.1\n",
    "\n",
    "GpLC1 = control.feedback(k1*Gp,1)\n",
    "GpLC2 = control.feedback(k2*Gp,1)"
   ]
  },
  {
   "cell_type": "code",
   "execution_count": 23,
   "id": "fd8835c5",
   "metadata": {},
   "outputs": [
    {
     "data": {
      "text/latex": [
       "$\\displaystyle \\left[\\begin{matrix}1.0 & 2.3\\\\3.1 & 0\\\\2.3 & 0\\end{matrix}\\right]$"
      ],
      "text/plain": [
       "Matrix([\n",
       "[1.0, 2.3],\n",
       "[3.1,   0],\n",
       "[2.3,   0]])"
      ]
     },
     "execution_count": 23,
     "metadata": {},
     "output_type": "execute_result"
    }
   ],
   "source": [
    "routh(k1*GpNum + GpDen)"
   ]
  },
  {
   "cell_type": "code",
   "execution_count": 24,
   "id": "a794a6af",
   "metadata": {},
   "outputs": [
    {
     "data": {
      "text/latex": [
       "$\\displaystyle \\left[\\begin{matrix}1.0 & 1.7\\\\2.9 & 0\\\\1.7 & 0\\end{matrix}\\right]$"
      ],
      "text/plain": [
       "Matrix([\n",
       "[1.0, 1.7],\n",
       "[2.9,   0],\n",
       "[1.7,   0]])"
      ]
     },
     "execution_count": 24,
     "metadata": {},
     "output_type": "execute_result"
    }
   ],
   "source": [
    "routh(k2*GpNum + GpDen)"
   ]
  },
  {
   "cell_type": "code",
   "execution_count": 25,
   "id": "62cf72e4",
   "metadata": {},
   "outputs": [
    {
     "data": {
      "text/plain": [
       "(array([-1.87015621, -1.22984379]), array([-3.]))"
      ]
     },
     "execution_count": 25,
     "metadata": {},
     "output_type": "execute_result"
    },
    {
     "data": {
      "image/png": "[encoded data removed]",
      "text/plain": [
       "<Figure size 432x288 with 1 Axes>"
      ]
     },
     "metadata": {
      "needs_background": "light"
     },
     "output_type": "display_data"
    }
   ],
   "source": [
    "control.pzmap(GpLC1)"
   ]
  },
  {
   "cell_type": "code",
   "execution_count": 26,
   "id": "33f046f6",
   "metadata": {},
   "outputs": [
    {
     "data": {
      "text/plain": [
       "(array([-2.08442888, -0.81557112]), array([-3.]))"
      ]
     },
     "execution_count": 26,
     "metadata": {},
     "output_type": "execute_result"
    },
    {
     "data": {
      "image/png": "[encoded data removed]",
      "text/plain": [
       "<Figure size 432x288 with 1 Axes>"
      ]
     },
     "metadata": {
      "needs_background": "light"
     },
     "output_type": "display_data"
    }
   ],
   "source": [
    "control.pzmap(GpLC2)"
   ]
  },
  {
   "cell_type": "code",
   "execution_count": null,
   "id": "eae08e1e",
   "metadata": {},
   "outputs": [],
   "source": []
  }
 ],
 "metadata": {
  "kernelspec": {
   "display_name": "Python 3",
   "language": "python",
   "name": "python3"
  },
  "language_info": {
   "codemirror_mode": {
    "name": "ipython",
    "version": 3
   },
   "file_extension": ".py",
   "mimetype": "text/x-python",
   "name": "python",
   "nbconvert_exporter": "python",
   "pygments_lexer": "ipython3",
   "version": "3.7.3"
  },
  "latex_envs": {
   "bibliofile": "biblio.bib",
   "cite_by": "apalike",
   "current_citInitial": 1,
   "eqLabelWithNumbers": true,
   "eqNumInitial": 0
  }
 },
 "nbformat": 4,
 "nbformat_minor": 5
}
