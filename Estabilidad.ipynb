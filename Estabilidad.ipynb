{
 "cells": [
  {
   "cell_type": "code",
   "execution_count": null,
   "id": "845287fa",
   "metadata": {},
   "outputs": [],
   "source": []
  },
  {
   "cell_type": "markdown",
   "id": "c0fbdab3",
   "metadata": {},
   "source": [
    "# Estabilidad en sistemas de lazo cerrado\n",
    "\n",
    "## Objetivos\n",
    "- Determinar la estabilidad de sistemas de lazo abierto y lazo cerrado.\n",
    "- Verificar el efecto de cerrar un lazo de control sobre sistemas de  tiempo continuo.\n"
   ]
  },
  {
   "cell_type": "markdown",
   "id": "d8f7ea41",
   "metadata": {},
   "source": [
    "## Lazo cerrado\n",
    "\n",
    "\n",
    "Tomando como base el bucle típico de control de la siguiente figura.\n",
    "\n",
    "![bucle](figuras/bucle_Laplace.PNG)\n",
    "\n",
    "Puede deducirse que la función de transferencia desde la **referencia** $R(s)$ hasta la **controlada** $C(s)$.\n",
    "\n",
    "Observe que el error se define como:\n",
    "\\begin{equation}\n",
    "E(s) = R(s) - H(s) C(s)\n",
    "\\end{equation}\n",
    "La señal **controlada** corresponde a la transformación que realiza el **controlador**, el **actuador** y la **planta** sobre el **error**.\n",
    "\\begin{align}\n",
    "C(s) &= G_c(s)G_a(s)G_p(s) E(s) \\\\\n",
    "C(s) &= G_c(s)G_a(s)G_p(s) \\left ( R(s) - H(s) C(s) \\right ) \\\\\n",
    "C(s) &= G_c(s)G_a(s)G_p(s)R(s) - G_c(s)G_a(s)G_p(s)H(s)C(s) \\\\\n",
    "\\end{align}\n",
    "\\begin{equation}\n",
    "C(s) +  G_c(s)G_a(s)G_p(s)H(s)C(s) = G_c(s)G_a(s)G_p(s)R(s)\n",
    "\\end{equation}\n",
    "\\begin{equation}\n",
    "C(s) \\left ( 1 +  G_c(s)G_a(s)G_p(s)H(s)\\right ) = G_c(s)G_a(s)G_p(s)R(s)\n",
    "\\end{equation}\n",
    "\n",
    "Así, la función de transferencia de lazo cerrado es:\n",
    "\n",
    "\\begin{equation}\n",
    "\\frac{R(s)}{C(s)} = \\frac{G_c(s)G_a(s)G_p(s)}{1 + G_c(s)G_a(s)G_p(s)H(s)}\n",
    "\\end{equation}\n",
    "\n",
    "Para efectos prácticos se reune en un solo modelo a los sistemas **Actuador** y **Planta**, pues estos dos sistemas conforman el **Proceso** que se debe controlar. Así, la función de transferencia de lazo cerrado será:\n",
    "\n",
    "\\begin{equation}\n",
    "\\frac{R(s)}{C(s)} = \\frac{G_c(s)G_p(s)}{1 + G_c(s)G_p(s)H(s)}\n",
    "\\end{equation}\n",
    "\n",
    "Tenga en cuenta que $G_p(s)$ incorpora las dinámicas de **Actuador** y **Planta**.\n",
    "\n",
    "El rol del **Sensor** requiere respuestas \"rápidas\" y \"precisas\".\n",
    "\n",
    "El sistema **Controlador** debe ser diseñado para lograr comportamientos deseados en el sistema en lazo cerrado, es decir, se moldea la forma de $C(s)$ a partir de $R(s)$ ajustando $G_c(s)$ de forma apropiada."
   ]
  },
  {
   "cell_type": "markdown",
   "id": "a7886ac4",
   "metadata": {},
   "source": [
    "## Estabilidad\n",
    "\n",
    "Un sistema es estable si es capaz de lograr equilibrio en sus componentes almacenadores de energía. En este caso, los polos del sistema tienen parte real negativa."
   ]
  }
 ],
 "metadata": {
  "kernelspec": {
   "display_name": "Python 3",
   "language": "python",
   "name": "python3"
  },
  "language_info": {
   "codemirror_mode": {
    "name": "ipython",
    "version": 3
   },
   "file_extension": ".py",
   "mimetype": "text/x-python",
   "name": "python",
   "nbconvert_exporter": "python",
   "pygments_lexer": "ipython3",
   "version": "3.7.3"
  },
  "latex_envs": {
   "bibliofile": "biblio.bib",
   "cite_by": "apalike",
   "current_citInitial": 1,
   "eqLabelWithNumbers": true,
   "eqNumInitial": 0
  }
 },
 "nbformat": 4,
 "nbformat_minor": 5
}
